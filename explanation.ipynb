{
 "cells": [
  {
   "cell_type": "markdown",
   "metadata": {},
   "source": [
    "### 1. Genel Tanımlamalar ve Başlangıç Değerleri"
   ]
  },
  {
   "cell_type": "code",
   "execution_count": null,
   "metadata": {
    "vscode": {
     "languageId": "plaintext"
    }
   },
   "outputs": [],
   "source": [
    "static Random rastgele = new Random(); // Rastgele sayı üretmek için kullanılan nesne\n",
    "static int nesilBoyutu = 5;           // Bir nesilde kaç birey olduğunu belirler\n",
    "static int genUzunlugu = 5;           // Bireylerin gen uzunluğu (5 bit)\n",
    "static int nesilSayisi = 20;          // Kaç nesil boyunca çalışacağını belirler\n",
    "static double mutasyonOrani = 0.05;   // Mutasyon ihtimali %5"
   ]
  },
  {
   "cell_type": "markdown",
   "metadata": {},
   "source": [
    "### 2. Ana Program Akışı (Main Metodu)"
   ]
  },
  {
   "cell_type": "code",
   "execution_count": null,
   "metadata": {
    "vscode": {
     "languageId": "plaintext"
    }
   },
   "outputs": [],
   "source": [
    "static void Main()\n",
    "{\n",
    "    int[] bireyler = BaslangicPopulasyonuOlustur();\n",
    "\n",
    "    for (int nesil = 0; nesil < nesilSayisi; nesil++)\n",
    "    {\n",
    "        int[] uygunlukDegerleri = bireyler.Select(UygunlukFonksiyonu).ToArray(); \n",
    "\n",
    "        int enIyiIndeks = Array.IndexOf(uygunlukDegerleri, uygunlukDegerleri.Max());\n",
    "        Console.WriteLine($\"Nesil {nesil + 1}: En iyi birey = {bireyler[enIyiIndeks]}, Değer = {uygunlukDegerleri[enIyiIndeks]}\");\n",
    "\n",
    "        int[] yeniBireyler = new int[nesilBoyutu]; \n",
    "        for (int i = 0; i < nesilBoyutu; i += 2) // Yeni bireyleri oluştur\n",
    "        {\n",
    "            int ebeveyn1 = EbeveynSec(bireyler, uygunlukDegerleri);\n",
    "            int ebeveyn2 = EbeveynSec(bireyler, uygunlukDegerleri);\n",
    "\n",
    "            (int cocuk1, int cocuk2) = Caprazlama(ebeveyn1, ebeveyn2);\n",
    "            yeniBireyler[i] = MutasyonUygula(cocuk1);\n",
    "            if (i + 1 < nesilBoyutu) yeniBireyler[i + 1] = MutasyonUygula(cocuk2);\n",
    "        }\n",
    "\n",
    "        bireyler = yeniBireyler; // Yeni nesli eski neslin yerine koy\n",
    "    }\n",
    "\n",
    "    int[] sonUygunlukDegerleri = bireyler.Select(UygunlukFonksiyonu).ToArray();\n",
    "    int enIyiSonIndeks = Array.IndexOf(sonUygunlukDegerleri, sonUygunlukDegerleri.Max());\n",
    "    Console.WriteLine($\"\\nEn iyi çözüm: {bireyler[enIyiSonIndeks]}, Maksimum f(x) = {sonUygunlukDegerleri[enIyiSonIndeks]}\");\n",
    "\n",
    "    Console.ReadKey();\n",
    "}"
   ]
  },
  {
   "cell_type": "code",
   "execution_count": null,
   "metadata": {
    "vscode": {
     "languageId": "plaintext"
    }
   },
   "outputs": [],
   "source": [
    "Ana akışın temel adımları:\n",
    "\t1.\tBaşlangıç popülasyonunu oluştur → BaslangicPopulasyonuOlustur() çağrılır.\n",
    "\t2.\tHer nesil için döngü başlar (for (int nesil = 0; nesil < nesilSayisi; nesil++))\n",
    "        •\tBireylerin uygunlukları hesaplanır (UygunlukFonksiyonu).\n",
    "        •\tEn iyi birey ekrana yazdırılır.\n",
    "        •\tYeni bireyler oluşturmak için:\n",
    "            1.\tEbeveyn seçimi yapılır (EbeveynSec() kullanılır).\n",
    "            2.\tÇaprazlama yapılır (Caprazlama() ile iki ebeveynin genleri birleştirilir).\n",
    "            3.\tMutasyon uygulanır (MutasyonUygula() ile bazı genler değiştirilir).\n",
    "\t    •\tYeni nesil, eski neslin yerine geçer.\n",
    "\t3.\tEn iyi çözüm ekrana yazdırılır."
   ]
  },
  {
   "cell_type": "markdown",
   "metadata": {},
   "source": [
    "### 3. Başlangıç Popülasyonu Oluşturma"
   ]
  },
  {
   "cell_type": "markdown",
   "metadata": {},
   "source": [
    "#### Neden rastgele.Next(0, 31) kullanıldı?\n",
    "5 bitlik bir genetik kod kullanıyoruz. Yani 00000 (0) ile 11111 (31) arasında değerler üretiyoruz."
   ]
  },
  {
   "cell_type": "code",
   "execution_count": null,
   "metadata": {
    "vscode": {
     "languageId": "plaintext"
    }
   },
   "outputs": [],
   "source": [
    "static int[] BaslangicPopulasyonuOlustur()\n",
    "{\n",
    "    return Enumerable.Range(0, nesilBoyutu)\n",
    "                     .Select(_ => rastgele.Next(0, 31))\n",
    "                     .ToArray();\n",
    "}"
   ]
  },
  {
   "cell_type": "markdown",
   "metadata": {},
   "source": [
    "### 4. Uygunluk Fonksiyonu"
   ]
  },
  {
   "cell_type": "markdown",
   "metadata": {},
   "source": [
    "#### Amaç: Bireyin başarısını ölçer. Burada hedef, x² değerini maksimize etmek.\n",
    "Daha karmaşık problemler için burası değiştirilebilir."
   ]
  },
  {
   "cell_type": "code",
   "execution_count": null,
   "metadata": {
    "vscode": {
     "languageId": "plaintext"
    }
   },
   "outputs": [],
   "source": [
    "static int UygunlukFonksiyonu(int x) => x * x;"
   ]
  },
  {
   "cell_type": "markdown",
   "metadata": {},
   "source": [
    "### 5. Ebeveyn Seçimi (Rulet Çarkı Seçimi)"
   ]
  },
  {
   "cell_type": "markdown",
   "metadata": {},
   "source": [
    "- \tRulet Çarkı Seçimi kullanılmıştır.\n",
    "-\tDaha yüksek uygunluk değeri olan bireylerin seçilme olasılığı daha fazladır.\n",
    "-\tRastgele bir değer üretilerek toplam uygunluk içindeki yerine göre ebeveyn seçilir."
   ]
  },
  {
   "cell_type": "code",
   "execution_count": null,
   "metadata": {
    "vscode": {
     "languageId": "plaintext"
    }
   },
   "outputs": [],
   "source": [
    "static int EbeveynSec(int[] bireyler, int[] uygunlukDegerleri)\n",
    "{\n",
    "    int toplamUygunluk = uygunlukDegerleri.Sum();\n",
    "    int rastgeleDeger = rastgele.Next(0, toplamUygunluk);\n",
    "    int toplam = 0;\n",
    "    for (int i = 0; i < nesilBoyutu; i++)\n",
    "    {\n",
    "        toplam += uygunlukDegerleri[i];\n",
    "        if (toplam > rastgeleDeger) return bireyler[i];\n",
    "    }\n",
    "    return bireyler[0];\n",
    "}"
   ]
  },
  {
   "cell_type": "markdown",
   "metadata": {},
   "source": [
    "### 6. Çaprazlama (Crossover)"
   ]
  },
  {
   "cell_type": "markdown",
   "metadata": {},
   "source": [
    "- İki ebeveynin genleri belirli bir noktadan bölünüp değiştiriliyor.\n",
    "- Bu, yeni bireylerin oluşmasını sağlar ve genetik çeşitliliği artırır."
   ]
  },
  {
   "cell_type": "code",
   "execution_count": null,
   "metadata": {
    "vscode": {
     "languageId": "plaintext"
    }
   },
   "outputs": [],
   "source": [
    "static (int, int) Caprazlama(int ebeveyn1, int ebeveyn2)\n",
    "{\n",
    "    int nokta = rastgele.Next(1, genUzunlugu - 1);\n",
    "\n",
    "    string ebeveyn1Binary = Convert.ToString(ebeveyn1, 2).PadLeft(genUzunlugu, '0');\n",
    "    string ebeveyn2Binary = Convert.ToString(ebeveyn2, 2).PadLeft(genUzunlugu, '0');\n",
    "\n",
    "    string cocuk1Binary = ebeveyn1Binary.Substring(0, nokta) + ebeveyn2Binary.Substring(nokta);\n",
    "    string cocuk2Binary = ebeveyn2Binary.Substring(0, nokta) + ebeveyn1Binary.Substring(nokta);\n",
    "\n",
    "    int cocuk1 = Convert.ToInt32(cocuk1Binary, 2);\n",
    "    int cocuk2 = Convert.ToInt32(cocuk2Binary, 2);\n",
    "\n",
    "    return (cocuk1, cocuk2);\n",
    "}"
   ]
  },
  {
   "cell_type": "markdown",
   "metadata": {},
   "source": [
    "### 7. Mutasyon Uygulama"
   ]
  },
  {
   "cell_type": "markdown",
   "metadata": {},
   "source": [
    "- Belirli bir olasılıkla genetik mutasyon uygular.\n",
    "- Bit değiştirme işlemi yapılarak yeni bireylerin oluşmasına katkı sağlar."
   ]
  },
  {
   "cell_type": "code",
   "execution_count": null,
   "metadata": {
    "vscode": {
     "languageId": "plaintext"
    }
   },
   "outputs": [],
   "source": [
    "static int MutasyonUygula(int gen)\n",
    "{\n",
    "    double olasilik = rastgele.NextDouble();\n",
    "    if (olasilik < mutasyonOrani)\n",
    "    {\n",
    "        string binaryString = Convert.ToString(gen, 2).PadLeft(genUzunlugu, '0');\n",
    "        char[] bitDizisi = binaryString.ToCharArray();\n",
    "\n",
    "        int bitKonumu = rastgele.Next(0, genUzunlugu);\n",
    "        bitDizisi[bitDizisi.Length - 1 - bitKonumu] ^= (char)1;\n",
    "\n",
    "        string yeniBinary = new string(bitDizisi);\n",
    "        gen = Convert.ToInt32(yeniBinary, 2);\n",
    "    }\n",
    "    return gen;\n",
    "}"
   ]
  }
 ],
 "metadata": {
  "language_info": {
   "name": "python"
  }
 },
 "nbformat": 4,
 "nbformat_minor": 2
}
