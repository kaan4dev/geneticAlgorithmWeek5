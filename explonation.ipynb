{
 "cells": [
  {
   "cell_type": "markdown",
   "metadata": {},
   "source": [
    "# Adımlar"
   ]
  },
  {
   "cell_type": "markdown",
   "metadata": {},
   "source": [
    "#### Problemi Tanıt\n",
    "* f(x) = x² fonksiyonunun maksimumunu 0-30 arasında bul.\n"
   ]
  },
  {
   "cell_type": "markdown",
   "metadata": {},
   "source": [
    "#### Genetik Algoritma Bileşenleri \n",
    "\n",
    "1. Popülasyon: Rastgele bireyler (ikili sayılar).\n",
    "2. Uygunluk Fonksiyonu: f(x) = x².\n",
    "3. Çaprazlama: Tek noktalı.\n",
    "4. Mutasyon: %5 ihtimal."
   ]
  },
  {
   "cell_type": "markdown",
   "metadata": {},
   "source": [
    "#### Kodlama Adımları:\n",
    "\n",
    "1. Başlangıç Popülasyonunu Oluştur.\n",
    "2. Uygunluk Fonksiyonunu Tanımla.\n",
    "3. Ebeveyn Seçimini Yap (Rulet Çarkı Metodu).\n",
    "4. Çaprazlama ve Mutasyon Uygula.\n",
    "5. Yeni Nesil Popülasyonu Oluştur."
   ]
  },
  {
   "cell_type": "markdown",
   "metadata": {},
   "source": [
    "#### Sonuçları Analiz Et:\n",
    "1. En iyi bireyi bul ve uygunluğunu göster.\n",
    "2. Yöntemin avantajlarını/sınırlamalarını tartış."
   ]
  }
 ],
 "metadata": {
  "language_info": {
   "name": "python"
  }
 },
 "nbformat": 4,
 "nbformat_minor": 2
}
